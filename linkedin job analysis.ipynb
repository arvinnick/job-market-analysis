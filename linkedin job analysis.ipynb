{
 "cells": [
  {
   "cell_type": "code",
   "id": "initial_id",
   "metadata": {
    "collapsed": true
   },
   "source": [
    "import os\n",
    "import pickle\n",
    "\n",
    "import requests\n",
    "import yaml\n",
    "import pandas as pd\n",
    "\n",
    "with open(\"config.yml\") as ymlfile:\n",
    "    config = yaml.safe_load(ymlfile)\n",
    "SERP_API_KEY = config.get(\"SERP_API_KEY\")\n",
    "query = \"Python developer\"\n",
    "url = f\"https://serpapi.com/search.json?engine=google_jobs&q={query}&api_key={SERP_API_KEY}&hl=en&ltype=1\"\n",
    "data = []\n",
    "if os.path.exists(\"cache.pkl\"):\n",
    "    with open(\"cache.pkl\", \"rb\") as f:\n",
    "        data = pickle.load(f)\n",
    "else:\n",
    "    response = requests.get(url)\n",
    "    data.append(response.json())\n",
    "    while response.json().get(\"serpapi_pagination\"):\n",
    "        next_page_token = response.json().get(\"serpapi_pagination\").get(\"next_page_token\")\n",
    "        url = f\"https://serpapi.com/search.json?engine=google_jobs&q={query}&api_key={SERP_API_KEY}&hl=en&ltype=1&next_page_token={next_page_token}\"\n",
    "        response = requests.get(url)\n",
    "        data.append(response.json())\n",
    "    with open(\"cache.pkl\", \"wb\") as f:\n",
    "        pickle.dump(data, f)\n"
   ],
   "outputs": [],
   "execution_count": null
  },
  {
   "metadata": {},
   "cell_type": "code",
   "source": [
    "data_df = pd.json_normalize([item for sublist in data for item in sublist.get(\"jobs_results\", [])])\n",
    "data_df.head()"
   ],
   "id": "c3f1b41c4ba9d603",
   "outputs": [],
   "execution_count": null
  },
  {
   "metadata": {
    "ExecuteTime": {
     "end_time": "2025-02-28T03:19:01.046195Z",
     "start_time": "2025-02-28T03:19:01.041507Z"
    }
   },
   "cell_type": "code",
   "source": [
    "cloude_text = \"\\n\".join(data_df.description.values)\n",
    "with open(\"job_descriptions.txt\", \"w\") as f:\n",
    "    f.write(cloude_text)"
   ],
   "id": "4b306bad7d1be631",
   "outputs": [],
   "execution_count": 20
  },
  {
   "metadata": {},
   "cell_type": "code",
   "outputs": [],
   "execution_count": null,
   "source": "",
   "id": "1b6cce69a4ced1fb"
  }
 ],
 "metadata": {
  "kernelspec": {
   "display_name": "Python 3",
   "language": "python",
   "name": "python3"
  },
  "language_info": {
   "codemirror_mode": {
    "name": "ipython",
    "version": 2
   },
   "file_extension": ".py",
   "mimetype": "text/x-python",
   "name": "python",
   "nbconvert_exporter": "python",
   "pygments_lexer": "ipython2",
   "version": "2.7.6"
  }
 },
 "nbformat": 4,
 "nbformat_minor": 5
}
